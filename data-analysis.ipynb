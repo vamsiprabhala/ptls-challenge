{
 "metadata": {
  "language_info": {
   "codemirror_mode": {
    "name": "ipython",
    "version": 3
   },
   "file_extension": ".py",
   "mimetype": "text/x-python",
   "name": "python",
   "nbconvert_exporter": "python",
   "pygments_lexer": "ipython3",
   "version": "3.7.2-final"
  },
  "orig_nbformat": 2,
  "kernelspec": {
   "name": "python3",
   "display_name": "Python 3",
   "language": "python"
  }
 },
 "nbformat": 4,
 "nbformat_minor": 2,
 "cells": [
  {
   "cell_type": "code",
   "execution_count": 1,
   "metadata": {},
   "outputs": [],
   "source": [
    "from pyspark.sql import SparkSession\n",
    "spark = SparkSession.builder.master(\"local[2]\").appName(\"test\").getOrCreate()"
   ]
  },
  {
   "cell_type": "code",
   "execution_count": 2,
   "metadata": {},
   "outputs": [],
   "source": [
    "trace_file = \"/Users/vkprabhala/Desktop/twitter-challenge/application-trace.json\" \n",
    "app_trace = spark.read.json(trace_file,multiLine=True)"
   ]
  },
  {
   "cell_type": "code",
   "execution_count": 3,
   "metadata": {},
   "outputs": [
    {
     "output_type": "stream",
     "name": "stdout",
     "text": [
      "root\n |-- cesMetadata: struct (nullable = true)\n |    |-- countryCode: string (nullable = true)\n |    |-- oauthAppId: long (nullable = true)\n |-- messageSequenceNumber: long (nullable = true)\n |-- name: string (nullable = true)\n |-- parentSpanId: long (nullable = true)\n |-- spanId: long (nullable = true)\n |-- startTimeMicroseconds: long (nullable = true)\n |-- stopTimeMicroseconds: long (nullable = true)\n |-- traceId: struct (nullable = true)\n |    |-- leastSignificantBits: long (nullable = true)\n |    |-- mostSignificantBits: long (nullable = true)\n\n"
     ]
    }
   ],
   "source": [
    "app_trace.printSchema()"
   ]
  },
  {
   "cell_type": "code",
   "execution_count": 4,
   "metadata": {},
   "outputs": [
    {
     "output_type": "stream",
     "name": "stdout",
     "text": [
      "+-----------+---------------------+-----------------------+------------+-----------+---------------------+--------------------+------------------------------------------+\n|cesMetadata|messageSequenceNumber|name                   |parentSpanId|spanId     |startTimeMicroseconds|stopTimeMicroseconds|traceId                                   |\n+-----------+---------------------+-----------------------+------------+-----------+---------------------+--------------------+------------------------------------------+\n|[BR, 234]  |255372               |time-to-fully-loaded   |null        |-2147472118|1607549809181000     |null                |[8736631216184186000, 7012058579801421000]|\n|[BR, 234]  |255397               |time-to-fully-loaded   |null        |-2147472118|null                 |1607549811804000    |[8736631216184186000, 7012058579801421000]|\n|[US, 234]  |255256               |loading-direct-messages|-2058295690 |-2147467911|1607549745719000     |null                |[-394693864463939800, 4764635004827219000]|\n|[US, 234]  |255259               |loading-direct-messages|-2058295690 |-2147467911|null                 |1607549746006000    |[-394693864463939800, 4764635004827219000]|\n+-----------+---------------------+-----------------------+------------+-----------+---------------------+--------------------+------------------------------------------+\nonly showing top 4 rows\n\n"
     ]
    }
   ],
   "source": [
    "app_trace.show(4,False)"
   ]
  },
  {
   "cell_type": "code",
   "execution_count": 5,
   "metadata": {},
   "outputs": [
    {
     "output_type": "execute_result",
     "data": {
      "text/plain": [
       "884000"
      ]
     },
     "metadata": {},
     "execution_count": 5
    }
   ],
   "source": [
    "app_trace.count()"
   ]
  },
  {
   "cell_type": "code",
   "execution_count": 6,
   "metadata": {},
   "outputs": [],
   "source": [
    "from pyspark.sql.functions import * "
   ]
  },
  {
   "cell_type": "code",
   "execution_count": 7,
   "metadata": {},
   "outputs": [
    {
     "output_type": "stream",
     "name": "stdout",
     "text": [
      "+-----------------+------------+----------+\n|num_span_messages|unique_spans|num_traces|\n+-----------------+------------+----------+\n|           884000|      441987|     34000|\n+-----------------+------------+----------+\n\n"
     ]
    }
   ],
   "source": [
    "# How many span messages are in this file?\n",
    "# How many unique spans do the messages describe?\n",
    "# How many traces are in this file?\n",
    "app_trace.agg(count('messageSequenceNumber').alias('num_span_messages'),\n",
    "              countDistinct('spanId').alias('unique_spans'),\n",
    "              countDistinct('traceId').alias('num_traces'),\n",
    "             ).show()"
   ]
  },
  {
   "cell_type": "code",
   "execution_count": 8,
   "metadata": {},
   "outputs": [
    {
     "output_type": "stream",
     "name": "stdout",
     "text": [
      "+----------------------------+\n|name                        |\n+----------------------------+\n|loading-timeline-tweets     |\n|authenticating-user         |\n|loading-cached-tweets       |\n|loading-notifications       |\n|time-to-fully-loaded        |\n|rendering-cached-tweets     |\n|initializing-application    |\n|rendering-message-count     |\n|loading-direct-messages     |\n|rendering-timeline-tweets   |\n|finalize-application-start  |\n|loading-feature-flags       |\n|rendering-notification-count|\n+----------------------------+\n\n"
     ]
    }
   ],
   "source": [
    "#What are the distinct names of the spans we are tracking?\n",
    "app_trace.select('name').distinct().show(100,False)"
   ]
  },
  {
   "cell_type": "code",
   "execution_count": 9,
   "metadata": {},
   "outputs": [
    {
     "output_type": "stream",
     "name": "stdout",
     "text": [
      "+--------------------+\n|name                |\n+--------------------+\n|time-to-fully-loaded|\n+--------------------+\n\n"
     ]
    }
   ],
   "source": [
    "# What are the names of the traces?\n",
    "# The root span defines the name of the trace (i.e. the name of the root span is the name of the trace)\n",
    "app_trace.filter(col('parentSpanId').isNull()).select(col('name')).distinct().show(100,False)"
   ]
  },
  {
   "cell_type": "code",
   "execution_count": 10,
   "metadata": {},
   "outputs": [
    {
     "output_type": "stream",
     "name": "stdout",
     "text": [
      "+-----------------+-----------------+------------------+-----------------+\n|min_span_duration|max_span_duration|mean_span_duration|p95_span_duration|\n+-----------------+-----------------+------------------+-----------------+\n|-166000          |3805000          |514873.8922185494 |2365000.0        |\n+-----------------+-----------------+------------------+-----------------+\n\n"
     ]
    }
   ],
   "source": [
    "# What is the minimum and maximum duration of all the spans? How about average (mean) and p95?\n",
    "span_durations = app_trace.groupBy(col('spanId')).agg((max('stopTimeMicroseconds') - max('startTimeMicroseconds')).alias('span_duration'))\n",
    "min_max_span_durations = span_durations.agg(min('span_duration').alias('min_span_duration'),\n",
    "                                            max('span_duration').alias('max_span_duration'),\n",
    "                                            avg('span_duration').alias('mean_span_duration'),\n",
    "                                            expr('percentile(span_duration, 0.95)').alias('p95_span_duration')\n",
    "                                            )\n",
    "min_max_span_durations.show(1,False)                                            "
   ]
  },
  {
   "cell_type": "code",
   "execution_count": 11,
   "metadata": {},
   "outputs": [
    {
     "output_type": "stream",
     "name": "stdout",
     "text": [
      "+-----------+-----+\n|spanId     |count|\n+-----------+-----+\n|1334505210 |4    |\n|289675416  |4    |\n|2044164616 |4    |\n|-1623396131|4    |\n|1388118298 |4    |\n|708324914  |4    |\n|571003751  |4    |\n|1638074620 |4    |\n|1851979998 |4    |\n|781219535  |4    |\n|2056622259 |4    |\n|-79912640  |4    |\n|495190732  |4    |\n+-----------+-----+\n\n"
     ]
    }
   ],
   "source": [
    "# What is unexpected about these results, and how should we handle it for further analysis? What would you do if you saw something like this in your data?\n",
    "# Some spans have startTime > stopTime which results in min_span_duration being negative. We can exclude the spans with startTime > stopTime for further analysis. \n",
    "# Also there are some spans with more than 1 pair of start and stoptime like the ones shown below \n",
    "app_trace.groupBy('spanId').count().filter(col('count') != 2).show(100,False)\n"
   ]
  },
  {
   "cell_type": "code",
   "execution_count": 12,
   "metadata": {},
   "outputs": [
    {
     "output_type": "stream",
     "name": "stdout",
     "text": [
      "+---------------------+\n",
      "|span_with_no_children|\n",
      "+---------------------+\n",
      "|time-to-fully-loaded |\n",
      "+---------------------+\n",
      "\n",
      "[Row(name='finalize-application-start', avg_span_duration=99491.82352941176)]\n",
      "[Row(name='time-to-fully-loaded', avg_span_duration=2477797.5)]\n"
     ]
    }
   ],
   "source": [
    "# For the rest of the questions, let’s just pretend that we live in a universe where the weird data is acceptable, and include it in further analysis.\n",
    "# What is the name of the span which has no children, and has the shortest duration on average? Longest duration on average?\n",
    "span_with_no_child = app_trace.filter(col('parentSpanId').isNull()).select(col('name').alias('span_with_no_children')).distinct()\n",
    "span_with_no_child.show(10,False)\n",
    "span_durations = app_trace.groupBy('spanId','name').agg( ((max('stopTimeMicroseconds') - max('startTimeMicroseconds')).alias('span_duration') ))\n",
    "avg_span_durations = span_durations.groupBy('name').agg(avg('span_duration').alias('avg_span_duration'))\n",
    "shortest_avg_duration_span = avg_span_durations.orderBy('avg_span_duration').head(1)\n",
    "longest_avg_duration_span = avg_span_durations.orderBy(desc('avg_span_duration')).head(1)\n",
    "print(shortest_avg_duration_span)\n",
    "print(longest_avg_duration_span)"
   ]
  },
  {
   "cell_type": "code",
   "execution_count": 13,
   "metadata": {},
   "outputs": [
    {
     "output_type": "stream",
     "name": "stdout",
     "text": [
      "+----------+----------------------------+------------------+\n|appVersion|name                        |avg_span_duration |\n+----------+----------------------------+------------------+\n|123       |finalize-application-start  |99348.78571428571 |\n|123       |authenticating-user         |199509.64285714287|\n|123       |loading-direct-messages     |298890.28571428574|\n|123       |loading-notifications       |298896.71428571426|\n|123       |loading-timeline-tweets     |299250.28571428574|\n|123       |loading-cached-tweets       |299676.78571428574|\n|123       |loading-feature-flags       |299725.5714285714 |\n|123       |rendering-timeline-tweets   |397410.35714285716|\n|123       |rendering-message-count     |397482.0          |\n|123       |rendering-notification-count|397899.78571428574|\n|123       |rendering-cached-tweets     |399005.5714285714 |\n|123       |initializing-application    |798182.3571428572 |\n|123       |time-to-fully-loaded        |2453698.5714285714|\n|234       |finalize-application-start  |99591.95          |\n|234       |authenticating-user         |199592.85         |\n|234       |loading-direct-messages     |298805.05         |\n|234       |loading-notifications       |299070.9          |\n|234       |loading-cached-tweets       |299440.15         |\n|234       |loading-timeline-tweets     |299519.1          |\n|234       |loading-feature-flags       |299597.35         |\n|234       |rendering-notification-count|397804.4          |\n|234       |rendering-timeline-tweets   |398193.1          |\n|234       |rendering-message-count     |398442.85         |\n|234       |rendering-cached-tweets     |399106.75         |\n|234       |initializing-application    |847602.1          |\n|234       |time-to-fully-loaded        |2494666.75        |\n+----------+----------------------------+------------------+\n\n"
     ]
    }
   ],
   "source": [
    "# you get a report that several users have said the latest version of the app (oauthAppId 234) is slower in comparison to the older version (oauthAppId 123). Other users have said the opposite, that the experience seems faster. Who is right? Why?\n",
    "# Assumption is we can compare the avg duration of different app versions for each span.\n",
    "span_app_version_durations = app_trace.groupBy('spanId',(col('cesMetadata')['oauthAppId']).alias('appVersion'),'name') \\\n",
    "                                      .agg(((max('stopTimeMicroseconds') - max('startTimeMicroseconds')).alias('span_duration')))\n",
    "avg_durations_by_version_name = span_app_version_durations.groupBy('appVersion','name').agg(avg('span_duration').alias('avg_span_duration'))\n",
    "avg_durations_by_version_name.orderBy('appVersion','avg_span_duration').show(40,False)\n",
    "#Looking at the results we can say that for each span the avergae duration is slightly less for app version 123 compared to 234. It can be said that the users who reported app 123 being faster than 234 are right based on the average duration metric for different spans. SLightly more difference is noticeable in spans 'initializing-application', 'time-to-fully-loaded'. "
   ]
  },
  {
   "cell_type": "code",
   "execution_count": 14,
   "metadata": {},
   "outputs": [],
   "source": [
    "import pandas as pd \n",
    "pandas_df = avg_durations_by_version_name.toPandas()"
   ]
  },
  {
   "cell_type": "code",
   "execution_count": 15,
   "metadata": {},
   "outputs": [
    {
     "output_type": "execute_result",
     "data": {
      "text/plain": [
       "<matplotlib.axes._subplots.AxesSubplot at 0x7fad192145f8>"
      ]
     },
     "metadata": {},
     "execution_count": 15
    }
   ],
   "source": [
    "pivoted = pandas_df.pivot(index='name',columns='appVersion',values='avg_span_duration')\n",
    "pivoted.plot.bar()"
   ]
  },
  {
   "cell_type": "code",
   "execution_count": null,
   "metadata": {},
   "outputs": [],
   "source": []
  }
 ]
}